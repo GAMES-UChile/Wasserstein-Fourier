{
 "cells": [
  {
   "cell_type": "code",
   "execution_count": 3,
   "metadata": {},
   "outputs": [],
   "source": [
    "import codecs\n",
    "import matplotlib.pyplot as plt\n",
    "import numpy as np\n",
    "from scipy import signal\n",
    "\n",
    "from scipy.optimize import minimize\n",
    "\n",
    "import sys\n",
    "sys.path.append('../toolbox')\n",
    "from exact_barycenter import *\n",
    "from softmax import *\n",
    "from misc import *\n",
    "from knn import *\n",
    "\n"
   ]
  },
  {
   "cell_type": "code",
   "execution_count": 4,
   "metadata": {},
   "outputs": [
    {
     "ename": "FileNotFoundError",
     "evalue": "[Errno 2] No such file or directory: 'Data/GunPointOldVersusYoung/GunPointOldVersusYoung_TEST.txt'",
     "output_type": "error",
     "traceback": [
      "\u001b[0;31m---------------------------------------------------------------------------\u001b[0m",
      "\u001b[0;31mFileNotFoundError\u001b[0m                         Traceback (most recent call last)",
      "\u001b[0;32m<ipython-input-4-e11eafb5cf0b>\u001b[0m in \u001b[0;36m<module>\u001b[0;34m()\u001b[0m\n\u001b[1;32m     28\u001b[0m \u001b[0;31m#print(len(y_te), len(y_tr))\u001b[0m\u001b[0;34m\u001b[0m\u001b[0;34m\u001b[0m\u001b[0;34m\u001b[0m\u001b[0m\n\u001b[1;32m     29\u001b[0m \u001b[0;34m\u001b[0m\u001b[0m\n\u001b[0;32m---> 30\u001b[0;31m \u001b[0mdata_test\u001b[0m\u001b[0;34m,\u001b[0m \u001b[0mX_te\u001b[0m\u001b[0;34m,\u001b[0m \u001b[0my_te\u001b[0m\u001b[0;34m,\u001b[0m \u001b[0msupport\u001b[0m \u001b[0;34m=\u001b[0m \u001b[0mread_data\u001b[0m\u001b[0;34m(\u001b[0m\u001b[0;34m'Data/GunPointOldVersusYoung/GunPointOldVersusYoung_TEST.txt'\u001b[0m\u001b[0;34m)\u001b[0m\u001b[0;34m\u001b[0m\u001b[0;34m\u001b[0m\u001b[0m\n\u001b[0m\u001b[1;32m     31\u001b[0m \u001b[0mdata_train\u001b[0m\u001b[0;34m,\u001b[0m \u001b[0mX_tr\u001b[0m\u001b[0;34m,\u001b[0m \u001b[0my_tr\u001b[0m\u001b[0;34m,\u001b[0m \u001b[0msss\u001b[0m \u001b[0;34m=\u001b[0m \u001b[0mread_data\u001b[0m\u001b[0;34m(\u001b[0m\u001b[0;34m'Data/GunPointOldVersusYoung/GunPointOldVersusYoung_TRAIN.txt'\u001b[0m\u001b[0;34m)\u001b[0m\u001b[0;34m\u001b[0m\u001b[0;34m\u001b[0m\u001b[0m\n\u001b[1;32m     32\u001b[0m \u001b[0;34m\u001b[0m\u001b[0m\n",
      "\u001b[0;32m<ipython-input-4-e11eafb5cf0b>\u001b[0m in \u001b[0;36mread_data\u001b[0;34m(filename)\u001b[0m\n\u001b[1;32m      1\u001b[0m \u001b[0;32mdef\u001b[0m \u001b[0mread_data\u001b[0m\u001b[0;34m(\u001b[0m\u001b[0mfilename\u001b[0m\u001b[0;34m)\u001b[0m\u001b[0;34m:\u001b[0m\u001b[0;34m\u001b[0m\u001b[0;34m\u001b[0m\u001b[0m\n\u001b[0;32m----> 2\u001b[0;31m     \u001b[0mdataFile\u001b[0m \u001b[0;34m=\u001b[0m \u001b[0mcodecs\u001b[0m\u001b[0;34m.\u001b[0m\u001b[0mopen\u001b[0m\u001b[0;34m(\u001b[0m\u001b[0mfilename\u001b[0m\u001b[0;34m)\u001b[0m\u001b[0;34m\u001b[0m\u001b[0;34m\u001b[0m\u001b[0m\n\u001b[0m\u001b[1;32m      3\u001b[0m     \u001b[0mtext\u001b[0m \u001b[0;34m=\u001b[0m \u001b[0mdataFile\u001b[0m\u001b[0;34m.\u001b[0m\u001b[0mreadlines\u001b[0m\u001b[0;34m(\u001b[0m\u001b[0;34m)\u001b[0m\u001b[0;34m\u001b[0m\u001b[0;34m\u001b[0m\u001b[0m\n\u001b[1;32m      4\u001b[0m \u001b[0;34m\u001b[0m\u001b[0m\n\u001b[1;32m      5\u001b[0m     \u001b[0mdata\u001b[0m \u001b[0;34m=\u001b[0m \u001b[0;34m[\u001b[0m\u001b[0;34m]\u001b[0m\u001b[0;34m\u001b[0m\u001b[0;34m\u001b[0m\u001b[0m\n",
      "\u001b[0;32m/anaconda3/lib/python3.7/codecs.py\u001b[0m in \u001b[0;36mopen\u001b[0;34m(filename, mode, encoding, errors, buffering)\u001b[0m\n\u001b[1;32m    896\u001b[0m         \u001b[0;31m# Force opening of the file in binary mode\u001b[0m\u001b[0;34m\u001b[0m\u001b[0;34m\u001b[0m\u001b[0;34m\u001b[0m\u001b[0m\n\u001b[1;32m    897\u001b[0m         \u001b[0mmode\u001b[0m \u001b[0;34m=\u001b[0m \u001b[0mmode\u001b[0m \u001b[0;34m+\u001b[0m \u001b[0;34m'b'\u001b[0m\u001b[0;34m\u001b[0m\u001b[0;34m\u001b[0m\u001b[0m\n\u001b[0;32m--> 898\u001b[0;31m     \u001b[0mfile\u001b[0m \u001b[0;34m=\u001b[0m \u001b[0mbuiltins\u001b[0m\u001b[0;34m.\u001b[0m\u001b[0mopen\u001b[0m\u001b[0;34m(\u001b[0m\u001b[0mfilename\u001b[0m\u001b[0;34m,\u001b[0m \u001b[0mmode\u001b[0m\u001b[0;34m,\u001b[0m \u001b[0mbuffering\u001b[0m\u001b[0;34m)\u001b[0m\u001b[0;34m\u001b[0m\u001b[0;34m\u001b[0m\u001b[0m\n\u001b[0m\u001b[1;32m    899\u001b[0m     \u001b[0;32mif\u001b[0m \u001b[0mencoding\u001b[0m \u001b[0;32mis\u001b[0m \u001b[0;32mNone\u001b[0m\u001b[0;34m:\u001b[0m\u001b[0;34m\u001b[0m\u001b[0;34m\u001b[0m\u001b[0m\n\u001b[1;32m    900\u001b[0m         \u001b[0;32mreturn\u001b[0m \u001b[0mfile\u001b[0m\u001b[0;34m\u001b[0m\u001b[0;34m\u001b[0m\u001b[0m\n",
      "\u001b[0;31mFileNotFoundError\u001b[0m: [Errno 2] No such file or directory: 'Data/GunPointOldVersusYoung/GunPointOldVersusYoung_TEST.txt'"
     ]
    }
   ],
   "source": [
    "def read_data(filename):\n",
    "    dataFile = codecs.open(filename)\n",
    "    text = dataFile.readlines()\n",
    "    \n",
    "    data = []\n",
    "    labels = []\n",
    "\n",
    "    for line in text:\n",
    "        new = [float(x) for x in line.split()[1:]]\n",
    "        data.append(new)\n",
    "        labels.append(float(line.split()[0]))\n",
    "\n",
    "    data = np.array(data)\n",
    "    labels = np.array(labels)\n",
    "    ys = np.zeros(len(labels))\n",
    "    ys[np.where(labels == 2.0)] = 1\n",
    "\n",
    "    support, psds = signal.periodogram(data)\n",
    "    \n",
    "    normalize = np.sum(psds, axis=1)\n",
    "    psds += 1e-20\n",
    "    psds = (psds.transpose() / normalize).transpose()\n",
    "    \n",
    "    return data, psds, ys, support\n",
    "\n",
    "#data_test, X_te, y_te, support = read_data('Data/GunPoint/GunPoint_TEST.txt')\n",
    "#data_train, X_tr, y_tr, sss = read_data('Data/GunPoint/GunPoint_TRAIN.txt')\n",
    "#print(len(y_te), len(y_tr))\n",
    "\n",
    "data_test, X_te, y_te, support = read_data('Data/GunPointOldVersusYoung/GunPointOldVersusYoung_TEST.txt')\n",
    "data_train, X_tr, y_tr, sss = read_data('Data/GunPointOldVersusYoung/GunPointOldVersusYoung_TRAIN.txt')\n",
    "\n",
    "\n",
    "X = np.vstack((X_tr, X_te))\n",
    "y = np.hstack((y_tr, y_te))\n",
    "print(X.shape, y.shape)"
   ]
  },
  {
   "cell_type": "code",
   "execution_count": 27,
   "metadata": {},
   "outputs": [
    {
     "data": {
      "text/plain": [
       "[<matplotlib.lines.Line2D at 0x1c228409b0>]"
      ]
     },
     "execution_count": 27,
     "metadata": {},
     "output_type": "execute_result"
    },
    {
     "data": {
      "image/png": "[encoded data removed]",
      "text/plain": [
       "<Figure size 432x288 with 1 Axes>"
      ]
     },
     "metadata": {
      "needs_background": "light"
     },
     "output_type": "display_data"
    }
   ],
   "source": [
    "plt.plot(data_train[20,:])"
   ]
  },
  {
   "cell_type": "code",
   "execution_count": 28,
   "metadata": {},
   "outputs": [
    {
     "name": "stdout",
     "output_type": "stream",
     "text": [
      "(76,)\n",
      "(136, 76)\n"
     ]
    }
   ],
   "source": [
    "print(support.shape)\n",
    "print(X_tr.shape)\n",
    "\n",
    "# shuffle it\n",
    "np.random.seed(123)\n",
    "idx = np.arange(len(y_tr))\n",
    "np.random.shuffle(idx)\n",
    "X_tr = X_tr[idx, :]\n",
    "y_tr = y_tr[idx]\n",
    "y_tr = y_tr.reshape(-1,)"
   ]
  },
  {
   "cell_type": "code",
   "execution_count": 29,
   "metadata": {},
   "outputs": [],
   "source": [
    "options_q = {'q_support': 1000}\n",
    "x0 = np.ones((2+1)*2)\n",
    "seeds = np.arange(10)\n",
    "methods = ['quantile', 'euclidean', 'KL']\n",
    "scores = np.zeros((len(seeds), len(methods)))\n",
    "\n",
    "\n",
    "for i, m in enumerate(methods):\n",
    "    for seed in seeds:\n",
    "        X_tr, X_te, y_tr, y_te = random_split(X, y, 0.8, seed=seed)\n",
    "        y_tr = y_tr.reshape(-1,)\n",
    "    \n",
    "        model = WSoftmax(X_tr, y_tr, support, distance=m, quadratic=False, options=options_q)\n",
    "        res = minimize(fun=model.logp, x0=x0, jac=model.dlogp, method='L-BFGS-B')\n",
    "        theta = res['x']\n",
    "        prob, pred = model.pred(X_te, theta)\n",
    "        scores[seed, i] = np.sum(pred.reshape(y_te.shape) == y_te) / len(y_te)\n",
    "    \n"
   ]
  },
  {
   "cell_type": "code",
   "execution_count": 30,
   "metadata": {},
   "outputs": [
    {
     "name": "stdout",
     "output_type": "stream",
     "text": [
      "[0.70444444 0.63333333 0.61333333]\n",
      "[0.01177987 0.01805342 0.01455513]\n"
     ]
    }
   ],
   "source": [
    "print(np.mean(scores, axis=0))\n",
    "print(np.std(scores, axis=0) / np.sqrt(len(seeds)))"
   ]
  },
  {
   "cell_type": "code",
   "execution_count": 31,
   "metadata": {},
   "outputs": [],
   "source": [
    "seeds = np.arange(10)\n",
    "methods = ['quantile', 'euclidean', 'KL']\n",
    "scores = np.zeros((len(seeds), len(methods)))\n",
    "\n",
    "\n",
    "for seed in seeds:\n",
    "    for j, m in enumerate(methods):\n",
    "        X_tr, X_te, y_tr, y_te = random_split(X, y, 0.8, seed=seed)\n",
    "        y_tr = y_tr.reshape(-1,)\n",
    "        n_te, D = X_te.shape\n",
    "        results = np.zeros(n_te)\n",
    "        for i in range(n_te):\n",
    "            idx_neighbors = getNeighbors(X_tr, X_te[i, :], 6, m, support)\n",
    "            result = getResponse(y_tr[idx_neighbors])\n",
    "            results[i] = result\n",
    "            scores[seed, j] = np.sum(results.reshape(y_te.shape) == y_te) / len(y_te)"
   ]
  },
  {
   "cell_type": "code",
   "execution_count": 32,
   "metadata": {},
   "outputs": [
    {
     "name": "stdout",
     "output_type": "stream",
     "text": [
      "[0.93777778 0.86       0.93777778]\n",
      "[0.0068853  0.00756862 0.00756862]\n"
     ]
    }
   ],
   "source": [
    "print(np.mean(scores, axis=0))\n",
    "print(np.std(scores, axis=0) / np.sqrt(len(seeds)))"
   ]
  },
  {
   "cell_type": "code",
   "execution_count": null,
   "metadata": {},
   "outputs": [],
   "source": [
    "n_te, D = X_te.shape\n",
    "results = np.zeros(n_te)\n",
    "\n",
    "for i in range(n_te):\n",
    "    idx_neighbors = getNeighbors(X_tr, X_te[i, :], 55, 'KL', support)\n",
    "    result = getResponse(y_tr[idx_neighbors])\n",
    "    results[i] = result\n",
    "print(np.sum(results.reshape(y_te.shape) == y_te) / len(y_te))"
   ]
  },
  {
   "cell_type": "code",
   "execution_count": null,
   "metadata": {},
   "outputs": [],
   "source": [
    "n_te, D = X_te.shape\n",
    "results = np.zeros(n_te)\n",
    "for i in range(n_te):\n",
    "\n",
    "    idx_neighbors = getNeighbors(X_tr, X_te[i, :], 5, 'euclidean', support)\n",
    "    result = getResponse(y_tr[idx_neighbors])\n",
    "    results[i] = result\n",
    "print(np.sum(results.reshape(y_te.shape) == y_te) / len(y_te))"
   ]
  },
  {
   "cell_type": "code",
   "execution_count": null,
   "metadata": {},
   "outputs": [],
   "source": [
    "plt.plot(X_te[:3,:].transpose())"
   ]
  },
  {
   "cell_type": "code",
   "execution_count": null,
   "metadata": {},
   "outputs": [],
   "source": [
    "print(X_te[1,:])"
   ]
  },
  {
   "cell_type": "code",
   "execution_count": null,
   "metadata": {},
   "outputs": [],
   "source": [
    "def KL(x1, x2):\n",
    "    return np.sum(x2 * np.log(x1 / x2))"
   ]
  },
  {
   "cell_type": "code",
   "execution_count": null,
   "metadata": {},
   "outputs": [],
   "source": [
    "distances = []\n",
    "for x in X_tr[]"
   ]
  },
  {
   "cell_type": "code",
   "execution_count": null,
   "metadata": {},
   "outputs": [],
   "source": [
    "plt.plot(X_tr[y_tr==1,:].transpose())\n",
    "plt.show()"
   ]
  },
  {
   "cell_type": "code",
   "execution_count": null,
   "metadata": {},
   "outputs": [],
   "source": []
  }
 ],
 "metadata": {
  "kernelspec": {
   "display_name": "Python 3",
   "language": "python",
   "name": "python3"
  },
  "language_info": {
   "codemirror_mode": {
    "name": "ipython",
    "version": 3
   },
   "file_extension": ".py",
   "mimetype": "text/x-python",
   "name": "python",
   "nbconvert_exporter": "python",
   "pygments_lexer": "ipython3",
   "version": "3.7.3"
  }
 },
 "nbformat": 4,
 "nbformat_minor": 2
}
